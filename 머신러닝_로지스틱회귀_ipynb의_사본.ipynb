{
  "nbformat": 4,
  "nbformat_minor": 0,
  "metadata": {
    "colab": {
      "provenance": [],
      "include_colab_link": true
    },
    "kernelspec": {
      "name": "python3",
      "display_name": "Python 3"
    },
    "language_info": {
      "name": "python"
    }
  },
  "cells": [
    {
      "cell_type": "markdown",
      "metadata": {
        "id": "view-in-github",
        "colab_type": "text"
      },
      "source": [
        "<a href=\"https://colab.research.google.com/github/thisisnine99/20240202TEST/blob/main/%EB%A8%B8%EC%8B%A0%EB%9F%AC%EB%8B%9D_%EB%A1%9C%EC%A7%80%EC%8A%A4%ED%8B%B1%ED%9A%8C%EA%B7%80_ipynb%EC%9D%98_%EC%82%AC%EB%B3%B8.ipynb\" target=\"_parent\"><img src=\"https://colab.research.google.com/assets/colab-badge.svg\" alt=\"Open In Colab\"/></a>"
      ]
    },
    {
      "cell_type": "code",
      "execution_count": null,
      "metadata": {
        "id": "VFGLl4zg1cOS"
      },
      "outputs": [],
      "source": [
        "import pandas as pd # 판다스 라이브러리 임포트\n",
        "file_url = 'https://media.githubusercontent.com/media/musthave-ML10/data_source/main/titanic.csv'\n",
        "data = pd.read_csv(file_url) # 데이터셋 읽기"
      ]
    },
    {
      "cell_type": "code",
      "source": [
        "# 데이터 요약 정보 확인\n",
        "data.info()"
      ],
      "metadata": {
        "id": "NAS_doDM1-Yh"
      },
      "execution_count": null,
      "outputs": []
    },
    {
      "cell_type": "code",
      "source": [
        "# 데이터 요약 통계 정보 확인\n",
        "data.describe()"
      ],
      "metadata": {
        "id": "Wn0IIEAC2DDh"
      },
      "execution_count": null,
      "outputs": []
    },
    {
      "cell_type": "code",
      "source": [
        "# Name 컬럼의 고유값 개수 확인\n",
        "data['Name'].nunique()\n",
        "data['Name']"
      ],
      "metadata": {
        "id": "8gue6qN_3Fhr"
      },
      "execution_count": null,
      "outputs": []
    },
    {
      "cell_type": "code",
      "source": [
        "# 문제1.\n",
        "# Name컬럼과 Ticket 컬럼은 고유값이 많아서 인코딩 대상으로 적절치 않으므로 삭제"
      ],
      "metadata": {
        "id": "z3vPirOr4E1b"
      },
      "execution_count": null,
      "outputs": []
    },
    {
      "cell_type": "code",
      "source": [
        "# Name과 Ticket 컬럼이 삭제된 결과 head를 이용해 확인\n",
        "data.head()"
      ],
      "metadata": {
        "id": "qvKd01Gi4lY1"
      },
      "execution_count": null,
      "outputs": []
    },
    {
      "cell_type": "code",
      "source": [
        "# 남은 범주형 데이트를 원핫 인코딩\n",
        "data = pd.get_dummies(data, columns = ['Sex','Embarked'], drop_first = True)"
      ],
      "metadata": {
        "id": "pNSBG7vA5b2S"
      },
      "execution_count": null,
      "outputs": []
    },
    {
      "cell_type": "code",
      "source": [
        "# 문제와 정답으로 데이터를 분리하고 학습데이터와 테스트데이터를 8:2로 분리하기\n",
        "\n",
        "from sklearn.model_selection import train_test_split\n",
        "X = data.drop('Survived', axis = 1) # 데이터셋에서 종속변수 제거 후 저장\n",
        "y = data['Survived'] # 데이터셋에서 종속변수만 저장\n",
        "X_train, X_test, y_train, y_test = train_test_split(X, y, test_size = 0.2, random_state = 100) # 학습셋, 시험셋 분리"
      ],
      "metadata": {
        "id": "wZFxaLPG5ejC"
      },
      "execution_count": null,
      "outputs": []
    },
    {
      "cell_type": "code",
      "source": [],
      "metadata": {
        "id": "8GUI5_SG6JdA"
      },
      "execution_count": null,
      "outputs": []
    },
    {
      "cell_type": "code",
      "source": [
        "# 문제2.\n",
        "# 학습 데이터를 이용해 로지스틱 회귀 모델 학습"
      ],
      "metadata": {
        "id": "CglFPn_K6Ptq"
      },
      "execution_count": null,
      "outputs": []
    },
    {
      "cell_type": "code",
      "source": [
        "# 테스트 데이터를 예측하고 출력\n",
        "pred = model.predict(X_test) # 예측\n",
        "pred"
      ],
      "metadata": {
        "id": "5BMhLt-96VN5"
      },
      "execution_count": null,
      "outputs": []
    },
    {
      "cell_type": "code",
      "source": [
        "# 정확도 평가\n",
        "from sklearn.metrics import accuracy_score # 정확도 라이브러리 임포트\n",
        "accuracy_score(y_test, pred)"
      ],
      "metadata": {
        "id": "_3cCG7jp6sWH"
      },
      "execution_count": null,
      "outputs": []
    }
  ]
}