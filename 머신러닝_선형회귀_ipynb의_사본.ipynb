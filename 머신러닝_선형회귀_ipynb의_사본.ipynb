{
  "nbformat": 4,
  "nbformat_minor": 0,
  "metadata": {
    "colab": {
      "provenance": [],
      "include_colab_link": true
    },
    "kernelspec": {
      "name": "python3",
      "display_name": "Python 3"
    },
    "language_info": {
      "name": "python"
    }
  },
  "cells": [
    {
      "cell_type": "markdown",
      "metadata": {
        "id": "view-in-github",
        "colab_type": "text"
      },
      "source": [
        "<a href=\"https://colab.research.google.com/github/thisisnine99/20240202TEST/blob/main/%EB%A8%B8%EC%8B%A0%EB%9F%AC%EB%8B%9D_%EC%84%A0%ED%98%95%ED%9A%8C%EA%B7%80_ipynb%EC%9D%98_%EC%82%AC%EB%B3%B8.ipynb\" target=\"_parent\"><img src=\"https://colab.research.google.com/assets/colab-badge.svg\" alt=\"Open In Colab\"/></a>"
      ]
    },
    {
      "cell_type": "code",
      "execution_count": null,
      "metadata": {
        "id": "gNI9Cq6YpGJX"
      },
      "outputs": [],
      "source": [
        "import pandas as pd # 판다스 라이브러리 임포트\n",
        "file_url = 'https://media.githubusercontent.com/media/musthave-ML10/data_source/main/insurance.csv'\n",
        "data = pd.read_csv(file_url) # 데이터셋 읽기"
      ]
    },
    {
      "cell_type": "code",
      "source": [
        "# 데이터 상위 5개 확인\n",
        "data.head()"
      ],
      "metadata": {
        "id": "K8mel5HZsFP5"
      },
      "execution_count": null,
      "outputs": []
    },
    {
      "cell_type": "code",
      "source": [
        "# 데이터 메타 정보 확인\n",
        "data.info()"
      ],
      "metadata": {
        "id": "lIZpiUWItAi9"
      },
      "execution_count": null,
      "outputs": []
    },
    {
      "cell_type": "code",
      "source": [
        "# 데이터 요약 통계 확인\n",
        "data.describe()"
      ],
      "metadata": {
        "id": "P78Rf72CtSAt"
      },
      "execution_count": null,
      "outputs": []
    },
    {
      "cell_type": "code",
      "source": [
        "# 데이터 요약 통계 소수점 2자리로 확인\n",
        "round(data.describe( ) , 2)"
      ],
      "metadata": {
        "id": "_giSvE_sth_m"
      },
      "execution_count": null,
      "outputs": []
    },
    {
      "cell_type": "code",
      "source": [
        "# 문제1.\n",
        "# 특성(문제 데이터, 독립변수)와 타겟(정답, 종속변수) 데이터로 나누기"
      ],
      "metadata": {
        "id": "IZO9y4HItieP"
      },
      "execution_count": null,
      "outputs": []
    },
    {
      "cell_type": "code",
      "source": [
        "# 문제2.\n",
        "# 학습용 데이터와 테스트용 데이터를 학습데이터 8 : 테스트데이터 2 비율로 분리하기"
      ],
      "metadata": {
        "id": "gikLHFTWvenD"
      },
      "execution_count": null,
      "outputs": []
    },
    {
      "cell_type": "code",
      "source": [
        "# 문제3.\n",
        "# 학습용 데이터를 이용해 선형회귀 모델 학습시키기"
      ],
      "metadata": {
        "id": "A8vASe-ywNcQ"
      },
      "execution_count": null,
      "outputs": []
    },
    {
      "cell_type": "code",
      "source": [
        "\n",
        "# 문제4\n",
        "# 테스트 데이터(X_test)를 예측한 결과 출력"
      ],
      "metadata": {
        "id": "b01naEIEwjVO"
      },
      "execution_count": null,
      "outputs": []
    },
    {
      "cell_type": "code",
      "source": [
        "comparison = pd.DataFrame({'actual': y_test, 'pred': pred})"
      ],
      "metadata": {
        "id": "hnghS85AyR-M"
      },
      "execution_count": null,
      "outputs": []
    },
    {
      "cell_type": "code",
      "source": [
        "comparison"
      ],
      "metadata": {
        "id": "fv1TrNTXyWB0"
      },
      "execution_count": null,
      "outputs": []
    },
    {
      "cell_type": "code",
      "source": [
        "import matplotlib.pyplot as plt # ①\n",
        "import seaborn as sns # ②"
      ],
      "metadata": {
        "id": "IyegbmF4yXOd"
      },
      "execution_count": null,
      "outputs": []
    },
    {
      "cell_type": "code",
      "source": [
        "plt.figure(figsize=(10,10)) # ① 그래프 크기 정의\n",
        "sns.scatterplot(x = 'actual', y = 'pred', data = comparison) # ②"
      ],
      "metadata": {
        "id": "ZUwHPxlzyuNX"
      },
      "execution_count": null,
      "outputs": []
    },
    {
      "cell_type": "code",
      "source": [
        "from sklearn.metrics import mean_squared_error # ① MSE 라이브러리 임포트\n",
        "mean_squared_error(y_test, pred) ** 0.5 # ② RMSE 계산 실행"
      ],
      "metadata": {
        "id": "NVnAmy__yv-U"
      },
      "execution_count": null,
      "outputs": []
    }
  ]
}