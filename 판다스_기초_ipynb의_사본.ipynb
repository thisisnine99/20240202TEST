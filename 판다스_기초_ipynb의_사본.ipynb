{
  "nbformat": 4,
  "nbformat_minor": 0,
  "metadata": {
    "colab": {
      "provenance": [],
      "include_colab_link": true
    },
    "kernelspec": {
      "name": "python3",
      "display_name": "Python 3"
    },
    "language_info": {
      "name": "python"
    }
  },
  "cells": [
    {
      "cell_type": "markdown",
      "metadata": {
        "id": "view-in-github",
        "colab_type": "text"
      },
      "source": [
        "<a href=\"https://colab.research.google.com/github/thisisnine99/20240202TEST/blob/main/%ED%8C%90%EB%8B%A4%EC%8A%A4_%EA%B8%B0%EC%B4%88_ipynb%EC%9D%98_%EC%82%AC%EB%B3%B8.ipynb\" target=\"_parent\"><img src=\"https://colab.research.google.com/assets/colab-badge.svg\" alt=\"Open In Colab\"/></a>"
      ]
    },
    {
      "cell_type": "code",
      "execution_count": null,
      "metadata": {
        "id": "JzvSTkxzCNn5"
      },
      "outputs": [],
      "source": [
        "import pandas as pd\n",
        "stu = pd.read_excel('/content/students.xlsx')"
      ]
    },
    {
      "cell_type": "code",
      "source": [
        "# 아래 문제를 해결해주세요.\n",
        "\n",
        "\n",
        "# 1. 국어가 80점 이상인 학생의 이름과 생년월일\n",
        "\n",
        "\n",
        "# 2. 수학이 80점 미만인 학생의 영어와 국어 점수\n",
        "\n",
        "\n",
        "# 3. 국어와 수학이 90점 이상인 학생의 이름, 수학, 국어 점수\n",
        "\n",
        "\n",
        "# 4. 모든 과목이 60점 미만인 학생의 번호, 이름, 생년월일\n",
        "\n",
        "\n",
        "# 5. 대전 지역 학생들의 이름, 국어, 영어, 수학 점수"
      ],
      "metadata": {
        "id": "EJ8C5C1JC-kV"
      },
      "execution_count": null,
      "outputs": []
    },
    {
      "cell_type": "markdown",
      "source": [],
      "metadata": {
        "id": "UzgtHCU3h10p"
      }
    },
    {
      "cell_type": "code",
      "source": [
        "# 아래 문제를 해결해주세요.\n",
        "\n",
        "\n",
        "# 1. 학생들의 총점, 평균 구하기\n",
        "\n",
        "\n",
        "# 2. 학생들의 평균이 높은 순으로 정렬. 만약 평균이 같다면 학번으로 오름차순\n"
      ],
      "metadata": {
        "id": "tHL-HbNWDIkQ"
      },
      "execution_count": null,
      "outputs": []
    }
  ]
}