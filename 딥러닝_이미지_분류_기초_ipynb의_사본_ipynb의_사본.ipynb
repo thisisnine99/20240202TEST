{
  "nbformat": 4,
  "nbformat_minor": 0,
  "metadata": {
    "colab": {
      "provenance": [],
      "include_colab_link": true
    },
    "kernelspec": {
      "name": "python3",
      "display_name": "Python 3"
    },
    "language_info": {
      "name": "python"
    }
  },
  "cells": [
    {
      "cell_type": "markdown",
      "metadata": {
        "id": "view-in-github",
        "colab_type": "text"
      },
      "source": [
        "<a href=\"https://colab.research.google.com/github/thisisnine99/20240202TEST/blob/main/%EB%94%A5%EB%9F%AC%EB%8B%9D_%EC%9D%B4%EB%AF%B8%EC%A7%80_%EB%B6%84%EB%A5%98_%EA%B8%B0%EC%B4%88_ipynb%EC%9D%98_%EC%82%AC%EB%B3%B8_ipynb%EC%9D%98_%EC%82%AC%EB%B3%B8.ipynb\" target=\"_parent\"><img src=\"https://colab.research.google.com/assets/colab-badge.svg\" alt=\"Open In Colab\"/></a>"
      ]
    },
    {
      "cell_type": "code",
      "execution_count": null,
      "metadata": {
        "colab": {
          "base_uri": "https://localhost:8080/"
        },
        "id": "biqNIcYjyM4O",
        "outputId": "2182d0a5-b324-480d-af8f-7aa5b422adca"
      },
      "outputs": [
        {
          "output_type": "stream",
          "name": "stdout",
          "text": [
            "2.15.0\n"
          ]
        }
      ],
      "source": [
        "# 관련 라이브러리 로드\n",
        "import tensorflow as tf\n",
        "\n",
        "# Helper libraries\n",
        "import numpy as np\n",
        "import matplotlib.pyplot as plt\n",
        "\n",
        "print(tf.__version__)"
      ]
    },
    {
      "cell_type": "code",
      "source": [
        "# 학습용 데이터와 테스트용 데이터 준비\n",
        "fashion_mnist = tf.keras.datasets.fashion_mnist\n",
        "\n",
        "(train_images, train_labels), (test_images, test_labels) = fashion_mnist.load_data()"
      ],
      "metadata": {
        "id": "Th__pITszmvE"
      },
      "execution_count": null,
      "outputs": []
    },
    {
      "cell_type": "code",
      "source": [
        "# 데이터의 개수 및 내용 확인\n",
        "print(train_images.shape)\n",
        "print(train_labels.shape)\n",
        "print(train_labels)\n"
      ],
      "metadata": {
        "id": "v8cmCxxKzvSl"
      },
      "execution_count": null,
      "outputs": []
    },
    {
      "cell_type": "code",
      "source": [
        "# 각 레이블의 클래스명을 찾기 위한 배열 생성\n",
        "class_names = ['T-shirt/top', 'Trouser', 'Pullover', 'Dress', 'Coat',\n",
        "               'Sandal', 'Shirt', 'Sneaker', 'Bag', 'Ankle boot']"
      ],
      "metadata": {
        "id": "CS1A_bEE1vj2"
      },
      "execution_count": null,
      "outputs": []
    },
    {
      "cell_type": "code",
      "source": [
        "# 레이블 3은 Dress임을 확인\n",
        "class_names[3]"
      ],
      "metadata": {
        "id": "-0_z98Dk10CI"
      },
      "execution_count": null,
      "outputs": []
    },
    {
      "cell_type": "code",
      "source": [
        "# train_images의 첫번째 데이터를 직접 이미지로 출력하기\n",
        "plt.figure()\n",
        "plt.imshow(train_images[0])\n",
        "plt.colorbar()\n",
        "plt.grid(False)\n",
        "plt.show()"
      ],
      "metadata": {
        "id": "vGtasZhV04Fo"
      },
      "execution_count": null,
      "outputs": []
    },
    {
      "cell_type": "code",
      "source": [
        "# train_images의 두번째 데이터를 직접 이미지로 출력하기\n",
        "plt.figure()\n",
        "plt.imshow(train_images[1])\n",
        "plt.colorbar()\n",
        "plt.grid(False)\n",
        "plt.show()"
      ],
      "metadata": {
        "id": "BhXR2OOL1YcP"
      },
      "execution_count": null,
      "outputs": []
    },
    {
      "cell_type": "code",
      "source": [
        "# 문제1.\n",
        "# 학습 속도와 성능을 높이기 위해 정규화 하기"
      ],
      "metadata": {
        "id": "J1mmKeDq5s1a"
      },
      "execution_count": null,
      "outputs": []
    },
    {
      "cell_type": "code",
      "source": [
        "# 문제2.\n",
        "# 다음과 같은 층으로 구성된 모델을 구성해주세요.\n",
        "# 입력층((28, 28))\n",
        "# 은닉층 - 300개, 활성함수 relu\n",
        "# 출력층(10)\n",
        "model = tf.keras.Sequential([\n",
        "    tf.keras.layers.Flatten(input_shape=(28, 28)), # 입력층\n",
        "    # 은닉층 구현\n",
        "    # 출력층 구현\n",
        "])"
      ],
      "metadata": {
        "id": "20gp6-vi7bFl"
      },
      "execution_count": null,
      "outputs": []
    },
    {
      "cell_type": "code",
      "source": [
        "# 모델 세부 정보 세팅\n",
        "model.compile(optimizer='adam',\n",
        "              loss=tf.keras.losses.SparseCategoricalCrossentropy(from_logits=True),\n",
        "              metrics=['accuracy'])"
      ],
      "metadata": {
        "id": "sgICe2NpCf2u"
      },
      "execution_count": null,
      "outputs": []
    },
    {
      "cell_type": "code",
      "source": [
        "# 문제3.\n",
        "# 데이터를 이용해 모델 학습시키기(epochs는 5회)"
      ],
      "metadata": {
        "id": "C6_qNxy5C1KP"
      },
      "execution_count": null,
      "outputs": []
    },
    {
      "cell_type": "code",
      "source": [
        "# 학습된 모델의 정확도 평가\n",
        "test_loss, test_acc = model.evaluate(test_images,  test_labels, verbose=2)\n",
        "\n",
        "print('\\nTest accuracy:', test_acc)"
      ],
      "metadata": {
        "id": "VAPtBbb6DLkf"
      },
      "execution_count": null,
      "outputs": []
    },
    {
      "cell_type": "code",
      "source": [
        "# 학습된 모델의 결과를 확률로 볼수 있도록 설정\n",
        "probability_model = tf.keras.Sequential([model,\n",
        "                                         tf.keras.layers.Softmax()])\n",
        "predictions = probability_model.predict(test_images)"
      ],
      "metadata": {
        "id": "BFB4tGXjD2MQ"
      },
      "execution_count": null,
      "outputs": []
    },
    {
      "cell_type": "code",
      "source": [
        "# 표기법을 보기 쉽게 소수점 표기법으로 바꿈\n",
        "import numpy as np\n",
        "\n",
        " # 과학적 표기법 대신 소수점 6자리까지 나타낸다.\n",
        "np.set_printoptions(precision=6, suppress=True)\n",
        "\n",
        "predictions"
      ],
      "metadata": {
        "id": "ZIvBImePEkI2"
      },
      "execution_count": null,
      "outputs": []
    },
    {
      "cell_type": "code",
      "source": [
        "# 예측 결과 10개중 가장 높은 확률의 레이블을 뽑는 법\n",
        "np.argmax(predictions[0])"
      ],
      "metadata": {
        "id": "iRagphb7FR3s"
      },
      "execution_count": null,
      "outputs": []
    },
    {
      "cell_type": "code",
      "source": [
        "# 문제4.\n",
        "# 테스트 데이터의 0번째 이미지를 모델에게 예측하게 하여 그 결과를 출력해주세요."
      ],
      "metadata": {
        "id": "kSDP3jqjcy68"
      },
      "execution_count": null,
      "outputs": []
    },
    {
      "cell_type": "code",
      "source": [
        "# 문제5.\n",
        "# 테스트 데이터의 100번째 이미지를 모델에게 예측하게 하여 그 결과를 출력해주세요."
      ],
      "metadata": {
        "id": "UWtjQQloFi4p"
      },
      "execution_count": null,
      "outputs": []
    },
    {
      "cell_type": "markdown",
      "source": [],
      "metadata": {
        "id": "8ukzjFymdDsI"
      }
    }
  ]
}